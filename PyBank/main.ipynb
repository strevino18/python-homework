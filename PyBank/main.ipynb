{
 "cells": [
  {
   "cell_type": "code",
   "execution_count": 1,
   "id": "c5269364-d2a2-4613-bf1a-6addc7eb79d8",
   "metadata": {},
   "outputs": [],
   "source": [
    "# Importing necessary libraries to read csv file\n",
    "import os\n",
    "import pandas as pd\n",
    "import csv\n",
    "from pathlib import Path"
   ]
  },
  {
   "cell_type": "code",
   "execution_count": 2,
   "id": "057d3cd7-7306-4330-8dcf-146c9a3e6a56",
   "metadata": {},
   "outputs": [],
   "source": [
    "# Setting the path for the csv file\n",
    "csvpath = os.path.join(\"..\", \"Pybank\", \"02-Python_Homework_Instructions_PyBank_Resources_budget_data.csv\")"
   ]
  },
  {
   "cell_type": "code",
   "execution_count": 3,
   "id": "28a8387a-4bde-4692-bc0a-a29d44963529",
   "metadata": {},
   "outputs": [],
   "source": [
    "# Reading in the CSV as a DataFrame\n",
    "budget_data = pd.read_csv(csvpath)"
   ]
  },
  {
   "cell_type": "code",
   "execution_count": 4,
   "id": "5d57820f-6998-49c3-8eab-af6293627b88",
   "metadata": {},
   "outputs": [
    {
     "name": "stdout",
     "output_type": "stream",
     "text": [
      "Financial Analysis\n",
      "----------------------------\n"
     ]
    }
   ],
   "source": [
    "# Titling data summary.\n",
    "print(\"Financial Analysis\")\n",
    "print(\"----------------------------\")"
   ]
  },
  {
   "cell_type": "code",
   "execution_count": 5,
   "id": "5e11923d-7034-40fe-8fd7-98c8cfd9d700",
   "metadata": {},
   "outputs": [
    {
     "name": "stdout",
     "output_type": "stream",
     "text": [
      "Total Months: 86\n"
     ]
    }
   ],
   "source": [
    "# Total Number of Months included in dataset.\n",
    "total_number_months = budget_data['Date'].count()\n",
    "print(f\"Total Months: {total_number_months}\")"
   ]
  },
  {
   "cell_type": "code",
   "execution_count": 6,
   "id": "c96f962a-ca3c-4798-9f52-b0ca289ed86d",
   "metadata": {},
   "outputs": [
    {
     "name": "stdout",
     "output_type": "stream",
     "text": [
      "Total: $38382578\n"
     ]
    }
   ],
   "source": [
    "# Net Total Amount of Profit/Losses over entire period.\n",
    "net_total_amount_profit_losses = budget_data['Profit/Losses'].sum()\n",
    "print(f\"Total: ${net_total_amount_profit_losses}\")"
   ]
  },
  {
   "cell_type": "code",
   "execution_count": 7,
   "id": "b52630a6-4e74-46fc-8bd9-7a22ff2bc066",
   "metadata": {},
   "outputs": [],
   "source": [
    "# Average of Changes in Profit/Losses over entire period. Subtracting present from previous date. \n",
    "change_profit_losses = pd.DataFrame(budget_data['Profit/Losses'] - budget_data['Profit/Losses'].shift(1)).rename(columns = {'Profit/Losses':'Change'})\n",
    "\n",
    "# Finding average over entire period.\n",
    "average_change_profit_losses = change_profit_losses.mean(axis='index')\n",
    "\n",
    "# Renaming column label (index).\n",
    "average_change_profit_losses.rename(index={\"Change\": \"Average Change: $\"}, inplace = True)\n",
    "avg_profits = round(average_change_profit_losses, 2).to_string()"
   ]
  },
  {
   "cell_type": "code",
   "execution_count": 8,
   "id": "0cf501f4-1df0-461b-9574-2c654e2993ce",
   "metadata": {},
   "outputs": [
    {
     "data": {
      "text/html": [
       "<div>\n",
       "<style scoped>\n",
       "    .dataframe tbody tr th:only-of-type {\n",
       "        vertical-align: middle;\n",
       "    }\n",
       "\n",
       "    .dataframe tbody tr th {\n",
       "        vertical-align: top;\n",
       "    }\n",
       "\n",
       "    .dataframe thead th {\n",
       "        text-align: right;\n",
       "    }\n",
       "</style>\n",
       "<table border=\"1\" class=\"dataframe\">\n",
       "  <thead>\n",
       "    <tr style=\"text-align: right;\">\n",
       "      <th></th>\n",
       "      <th>Date</th>\n",
       "      <th>Change</th>\n",
       "    </tr>\n",
       "  </thead>\n",
       "  <tbody>\n",
       "    <tr>\n",
       "      <th>0</th>\n",
       "      <td>Jan-2010</td>\n",
       "      <td>NaN</td>\n",
       "    </tr>\n",
       "    <tr>\n",
       "      <th>1</th>\n",
       "      <td>Feb-2010</td>\n",
       "      <td>116771.0</td>\n",
       "    </tr>\n",
       "    <tr>\n",
       "      <th>2</th>\n",
       "      <td>Mar-2010</td>\n",
       "      <td>-662642.0</td>\n",
       "    </tr>\n",
       "    <tr>\n",
       "      <th>3</th>\n",
       "      <td>Apr-2010</td>\n",
       "      <td>-391430.0</td>\n",
       "    </tr>\n",
       "    <tr>\n",
       "      <th>4</th>\n",
       "      <td>May-2010</td>\n",
       "      <td>379920.0</td>\n",
       "    </tr>\n",
       "  </tbody>\n",
       "</table>\n",
       "</div>"
      ],
      "text/plain": [
       "       Date    Change\n",
       "0  Jan-2010       NaN\n",
       "1  Feb-2010  116771.0\n",
       "2  Mar-2010 -662642.0\n",
       "3  Apr-2010 -391430.0\n",
       "4  May-2010  379920.0"
      ]
     },
     "execution_count": 8,
     "metadata": {},
     "output_type": "execute_result"
    }
   ],
   "source": [
    "# Merging Budget Data with new Change in Profit/Loss Dataframe.\n",
    "change_profit_date = pd.merge(budget_data, change_profit_losses, left_index=True, right_index=True)\n",
    "change = change_profit_date.drop(columns = [\"Profit/Losses\"])\n",
    "change.head()"
   ]
  },
  {
   "cell_type": "code",
   "execution_count": 9,
   "id": "9df188c6-bdd3-4359-b24e-2291dcc92468",
   "metadata": {},
   "outputs": [
    {
     "name": "stdout",
     "output_type": "stream",
     "text": [
      "Greatest Increase in Profits: $1926159.0 on Feb-2012\n"
     ]
    }
   ],
   "source": [
    "# Greatest Increase in Profits (Date & Amount) over entire period.\n",
    "maximum_change = change['Change'].max()\n",
    "maximum_date = change.iloc[change['Change'].idxmax()][0]\n",
    "print(f\"Greatest Increase in Profits: ${maximum_change} on {maximum_date}\")"
   ]
  },
  {
   "cell_type": "code",
   "execution_count": 10,
   "id": "7307b886-b332-4637-9906-d1dad4e14d0f",
   "metadata": {},
   "outputs": [
    {
     "name": "stdout",
     "output_type": "stream",
     "text": [
      "Greatest Decrease in Profits: $-2196167.0 on Sep-2013\n"
     ]
    }
   ],
   "source": [
    "# Greatest Increase in Profits (Date & Amount) over entire period.\n",
    "minimum_change = change['Change'].min()\n",
    "minimum_date = change.iloc[change['Change'].idxmin()][0]\n",
    "print(f\"Greatest Decrease in Profits: ${minimum_change} on {minimum_date}\")"
   ]
  },
  {
   "cell_type": "code",
   "execution_count": 11,
   "id": "753b7426-7d19-4164-8993-135ce98eddd4",
   "metadata": {},
   "outputs": [
    {
     "name": "stdout",
     "output_type": "stream",
     "text": [
      "Financial Analysis\n",
      "\n",
      "----------------------------\n",
      "\n",
      "Total Months: 86\n",
      "\n",
      "Total: $38382578\n",
      "\n",
      "Average Change: $   -2315.12\n",
      "\n",
      "Greatest Increase in Profits: $1926159.0 on Feb-2012\n",
      "\n",
      "Greatest Decrease in Profits: $-2196167.0 on Sep-2013\n",
      "\n"
     ]
    }
   ],
   "source": [
    "print(f\"Financial Analysis\\n\")\n",
    "print(f\"----------------------------\\n\")\n",
    "print(f\"Total Months: {total_number_months}\\n\")\n",
    "print(f\"Total: ${net_total_amount_profit_losses}\\n\")\n",
    "print(f\"{avg_profits}\\n\")\n",
    "print(f\"Greatest Increase in Profits: ${maximum_change} on {maximum_date}\\n\")\n",
    "print(f\"Greatest Decrease in Profits: ${minimum_change} on {minimum_date}\\n\")"
   ]
  },
  {
   "cell_type": "code",
   "execution_count": 12,
   "id": "3b925882-9f1b-4971-8032-069256604ba8",
   "metadata": {},
   "outputs": [],
   "source": [
    "# Export results to txt file\n",
    "file_to_output = Path(\"pybank_budget_analysis.txt\")\n",
    "with open (file_to_output, \"w\") as txt_file:\n",
    "    txt_file.write(f\"Financial Analysis\\n\")\n",
    "    txt_file.write(f\"----------------------------\\n\")\n",
    "    txt_file.write(f\"Total Months: {total_number_months}\\n\")\n",
    "    txt_file.write(f\"Total: ${net_total_amount_profit_losses}\\n\")\n",
    "    txt_file.write(f\"{avg_profits}\\n\")\n",
    "    txt_file.write(f\"Greatest Increase in Profits: ${maximum_change} on {maximum_date}\\n\")\n",
    "    txt_file.write(f\"Greatest Decrease in Profits: ${minimum_change} on {minimum_date}\\n\")"
   ]
  }
 ],
 "metadata": {
  "kernelspec": {
   "display_name": "Python 3",
   "language": "python",
   "name": "python3"
  },
  "language_info": {
   "codemirror_mode": {
    "name": "ipython",
    "version": 3
   },
   "file_extension": ".py",
   "mimetype": "text/x-python",
   "name": "python",
   "nbconvert_exporter": "python",
   "pygments_lexer": "ipython3",
   "version": "3.8.5"
  }
 },
 "nbformat": 4,
 "nbformat_minor": 5
}
